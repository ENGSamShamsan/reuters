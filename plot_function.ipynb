{
 "cells": [
  {
   "cell_type": "code",
   "execution_count": null,
   "metadata": {},
   "outputs": [],
   "source": [
    "def plot_eval(tr, val, N_EPOCHS):\n",
    "    \"\"\"Plot results\n",
    "        tr, val: lists of [loss, precision, recall, f1] lists\"\"\"\n",
    "    \n",
    "    def plot(list_, i, N, label, linestyle, col):\n",
    "        plt.plot(np.arange(N), [t[i] for t in list_], label=label, linestyle=linestyle, color=col)\n",
    "    \n",
    "    plt.subplot(1,2,1)\n",
    "    plot(tr, 0, N_EPOCHS, 'Training loss', 'dashed', 'g')\n",
    "    plot(val, 0, N_EPOCHS, 'Validation loss', 'solid', 'g')\n",
    "    plt.xlabel('Epoch')\n",
    "    plt.legend()\n",
    "    \n",
    "    plt.subplot(1,2,2)\n",
    "    plot(tr, 1, N_EPOCHS, 'Training precision', 'dashed', 'b')\n",
    "    plot(val, 1, N_EPOCHS, 'Validation precision', 'solid', 'b')\n",
    "\n",
    "    plot(tr, 2, N_EPOCHS, 'Training recall', 'dashed', 'r')\n",
    "    plot(val, 2, N_EPOCHS, 'Validation recall', 'solid', 'r')\n",
    "    \n",
    "    plot(tr, 3, N_EPOCHS, 'Training F1','dashed', 'c')\n",
    "    plot(val, 3, N_EPOCHS, 'Validation F1', 'solid', 'c')\n",
    "    plt.xlabel('Epoch')\n",
    "    plt.legend()"
   ]
  }
 ],
 "metadata": {
  "kernelspec": {
   "display_name": "Python 3",
   "language": "python",
   "name": "python3"
  },
  "language_info": {
   "codemirror_mode": {
    "name": "ipython",
    "version": 3
   },
   "file_extension": ".py",
   "mimetype": "text/x-python",
   "name": "python",
   "nbconvert_exporter": "python",
   "pygments_lexer": "ipython3",
   "version": "3.6.7"
  }
 },
 "nbformat": 4,
 "nbformat_minor": 2
}
