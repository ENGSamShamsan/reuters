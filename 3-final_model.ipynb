{
 "cells": [
  {
   "cell_type": "code",
   "execution_count": 1,
   "metadata": {},
   "outputs": [],
   "source": [
    "import os\n",
    "import torch\n",
    "from torchvision.datasets.utils import download_url\n",
    "from torchtext import data\n",
    "from torchtext import datasets\n",
    "import pandas as pd\n",
    "import numpy as np\n",
    "\n",
    "import torch.nn as nn\n",
    "import torch.nn.functional as F\n",
    "import torch.optim as optim\n",
    "import matplotlib.pyplot as plt\n",
    "%matplotlib inline\n",
    "import time\n",
    "from datetime import datetime"
   ]
  },
  {
   "cell_type": "code",
   "execution_count": 2,
   "metadata": {},
   "outputs": [],
   "source": [
    "import models"
   ]
  },
  {
   "cell_type": "code",
   "execution_count": 3,
   "metadata": {},
   "outputs": [],
   "source": [
    "SEED = 1\n",
    "torch.manual_seed(SEED)\n",
    "torch.cuda.manual_seed(SEED)\n",
    "torch.backends.cudnn.deterministic = False"
   ]
  },
  {
   "cell_type": "markdown",
   "metadata": {},
   "source": [
    "### Load data"
   ]
  },
  {
   "cell_type": "code",
   "execution_count": 4,
   "metadata": {},
   "outputs": [],
   "source": [
    "# Read data - short version 3400+ documents\n",
    "reuters = pd.read_pickle('input/reuters_small.pkl')"
   ]
  },
  {
   "cell_type": "code",
   "execution_count": 5,
   "metadata": {},
   "outputs": [],
   "source": [
    "# OR 8xsmall size\n",
    "reuters = pd.read_pickle('input/reuters_small8.pkl')"
   ]
  },
  {
   "cell_type": "code",
   "execution_count": 6,
   "metadata": {},
   "outputs": [],
   "source": [
    "# OR load full data, if produced. 435 MB. NOT in Github currently. \n",
    "# You can produce this in about 30 min with preprocess_data.ipynb\n",
    "reuters = pd.read_pickle('input/reuters_all.pkl')"
   ]
  },
  {
   "cell_type": "code",
   "execution_count": 7,
   "metadata": {},
   "outputs": [
    {
     "name": "stdout",
     "output_type": "stream",
     "text": [
      "299773\n"
     ]
    },
    {
     "data": {
      "text/html": [
       "<div>\n",
       "<style scoped>\n",
       "    .dataframe tbody tr th:only-of-type {\n",
       "        vertical-align: middle;\n",
       "    }\n",
       "\n",
       "    .dataframe tbody tr th {\n",
       "        vertical-align: top;\n",
       "    }\n",
       "\n",
       "    .dataframe thead th {\n",
       "        text-align: right;\n",
       "    }\n",
       "</style>\n",
       "<table border=\"1\" class=\"dataframe\">\n",
       "  <thead>\n",
       "    <tr style=\"text-align: right;\">\n",
       "      <th></th>\n",
       "      <th>codes</th>\n",
       "      <th>headline</th>\n",
       "      <th>text</th>\n",
       "    </tr>\n",
       "  </thead>\n",
       "  <tbody>\n",
       "    <tr>\n",
       "      <th>0</th>\n",
       "      <td>[C18, C181, CCAT]</td>\n",
       "      <td>Eureko is latest suitor for French insurer GAN.</td>\n",
       "      <td>\\nEureko, an alliance of six European financia...</td>\n",
       "    </tr>\n",
       "    <tr>\n",
       "      <th>1</th>\n",
       "      <td>[G15, GCAT]</td>\n",
       "      <td>Reuter EC Report Long-Term Diary for July 28 -...</td>\n",
       "      <td>\\n****\\nHIGHLIGHTS\\n****\\nLUXEMBOURG - Luxembo...</td>\n",
       "    </tr>\n",
       "  </tbody>\n",
       "</table>\n",
       "</div>"
      ],
      "text/plain": [
       "               codes                                           headline  \\\n",
       "0  [C18, C181, CCAT]    Eureko is latest suitor for French insurer GAN.   \n",
       "1        [G15, GCAT]  Reuter EC Report Long-Term Diary for July 28 -...   \n",
       "\n",
       "                                                text  \n",
       "0  \\nEureko, an alliance of six European financia...  \n",
       "1  \\n****\\nHIGHLIGHTS\\n****\\nLUXEMBOURG - Luxembo...  "
      ]
     },
     "execution_count": 7,
     "metadata": {},
     "output_type": "execute_result"
    }
   ],
   "source": [
    "print(len(reuters))\n",
    "reuters[0:2]"
   ]
  },
  {
   "cell_type": "code",
   "execution_count": 8,
   "metadata": {},
   "outputs": [
    {
     "name": "stdout",
     "output_type": "stream",
     "text": [
      "126\n"
     ]
    }
   ],
   "source": [
    "# read classcodes\n",
    "classcodes= pd.read_csv('input/classcodes.csv')\n",
    "print(len(classcodes))\n",
    "#classcodes[0:12]\n",
    "\n",
    "# add index field to DataFrame\n",
    "classcodes = classcodes.reset_index()\n",
    "# Create dictionary index/int to classcode and classcode to int\n",
    "itocode = dict(zip(classcodes.index, classcodes.Code))\n",
    "codetoi = dict(zip(classcodes.Code, classcodes.index))\n",
    "def listToInt(mylist):\n",
    "    return [codetoi[item] for item in mylist]\n",
    "\n",
    "reuters['codes'] = [listToInt(codelist) for codelist in reuters.codes]\n",
    "reuters[0:3]\n",
    "# Multihot, for single list - one row\n",
    "def multihot(tags):\n",
    "    return [1 if tag in tags else 0 for tag in taglist]\n",
    "\n",
    "# list of classes, 126 int: [0...125]\n",
    "taglist = list(classcodes.index)\n",
    "Y_hot = [multihot(claslist) for claslist in reuters.codes]\n",
    "reuters['codes'] = Y_hot"
   ]
  },
  {
   "cell_type": "code",
   "execution_count": 9,
   "metadata": {},
   "outputs": [
    {
     "name": "stdout",
     "output_type": "stream",
     "text": [
      "299773\n"
     ]
    },
    {
     "data": {
      "text/html": [
       "<div>\n",
       "<style scoped>\n",
       "    .dataframe tbody tr th:only-of-type {\n",
       "        vertical-align: middle;\n",
       "    }\n",
       "\n",
       "    .dataframe tbody tr th {\n",
       "        vertical-align: top;\n",
       "    }\n",
       "\n",
       "    .dataframe thead th {\n",
       "        text-align: right;\n",
       "    }\n",
       "</style>\n",
       "<table border=\"1\" class=\"dataframe\">\n",
       "  <thead>\n",
       "    <tr style=\"text-align: right;\">\n",
       "      <th></th>\n",
       "      <th>codes</th>\n",
       "      <th>headline</th>\n",
       "      <th>text</th>\n",
       "    </tr>\n",
       "  </thead>\n",
       "  <tbody>\n",
       "    <tr>\n",
       "      <th>0</th>\n",
       "      <td>[0, 0, 0, 0, 0, 0, 0, 0, 0, 0, 0, 0, 0, 0, 0, ...</td>\n",
       "      <td>Eureko is latest suitor for French insurer GAN.</td>\n",
       "      <td>\\nEureko, an alliance of six European financia...</td>\n",
       "    </tr>\n",
       "    <tr>\n",
       "      <th>1</th>\n",
       "      <td>[0, 0, 0, 0, 0, 0, 0, 0, 0, 0, 0, 0, 0, 0, 0, ...</td>\n",
       "      <td>Reuter EC Report Long-Term Diary for July 28 -...</td>\n",
       "      <td>\\n****\\nHIGHLIGHTS\\n****\\nLUXEMBOURG - Luxembo...</td>\n",
       "    </tr>\n",
       "  </tbody>\n",
       "</table>\n",
       "</div>"
      ],
      "text/plain": [
       "                                               codes  \\\n",
       "0  [0, 0, 0, 0, 0, 0, 0, 0, 0, 0, 0, 0, 0, 0, 0, ...   \n",
       "1  [0, 0, 0, 0, 0, 0, 0, 0, 0, 0, 0, 0, 0, 0, 0, ...   \n",
       "\n",
       "                                            headline  \\\n",
       "0    Eureko is latest suitor for French insurer GAN.   \n",
       "1  Reuter EC Report Long-Term Diary for July 28 -...   \n",
       "\n",
       "                                                text  \n",
       "0  \\nEureko, an alliance of six European financia...  \n",
       "1  \\n****\\nHIGHLIGHTS\\n****\\nLUXEMBOURG - Luxembo...  "
      ]
     },
     "execution_count": 9,
     "metadata": {},
     "output_type": "execute_result"
    }
   ],
   "source": [
    "print(len(reuters))\n",
    "reuters[0:2]"
   ]
  },
  {
   "cell_type": "markdown",
   "metadata": {},
   "source": [
    "### Using DataSet\n"
   ]
  },
  {
   "cell_type": "markdown",
   "metadata": {},
   "source": [
    "Example in:\n",
    "https://github.com/bentrevett/pytorch-sentiment-analysis/blob/master/A%20-%20Using%20TorchText%20with%20Your%20Own%20Datasets.ipynb"
   ]
  },
  {
   "cell_type": "code",
   "execution_count": 10,
   "metadata": {},
   "outputs": [],
   "source": [
    "#Define the Fields\n",
    "TEXT = data.Field()\n",
    "HEADLINE = data.Field()\n",
    "LABELS = data.LabelField(sequential=False, use_vocab=False)"
   ]
  },
  {
   "cell_type": "code",
   "execution_count": 11,
   "metadata": {},
   "outputs": [],
   "source": [
    "# Put data in random order\n",
    "idx = np.random.permutation(len(reuters))\n",
    "reuters = reuters.iloc[idx]"
   ]
  },
  {
   "cell_type": "code",
   "execution_count": 12,
   "metadata": {},
   "outputs": [],
   "source": [
    "# split it\n",
    "size = len(reuters)\n",
    "train_size = int(0.7*size)\n",
    "test_size = int(0.85*size)\n",
    "\n",
    "train = reuters[0: train_size]\n",
    "val = reuters[train_size : test_size]\n",
    "test = reuters[test_size : size]\n",
    "\n",
    "train.to_json('input/train.json', orient='records', lines=True)\n",
    "test.to_json('input/test.json', orient='records', lines=True)\n",
    "val.to_json('input/val.json', orient='records', lines=True)"
   ]
  },
  {
   "cell_type": "code",
   "execution_count": 13,
   "metadata": {},
   "outputs": [
    {
     "data": {
      "text/plain": [
       "{'headline': ('h', <torchtext.data.field.Field at 0x7efe7363d748>),\n",
       " 'text': ('t', <torchtext.data.field.Field at 0x7efe7363d908>),\n",
       " 'codes': ('l', <torchtext.data.field.LabelField at 0x7efe7363d940>)}"
      ]
     },
     "execution_count": 13,
     "metadata": {},
     "output_type": "execute_result"
    }
   ],
   "source": [
    "# Tell torchText which Fields to apply to which json elements\n",
    "fields = {'headline': ('h', HEADLINE), 'text': ('t', TEXT), 'codes': ('l', LABELS)}\n",
    "fields"
   ]
  },
  {
   "cell_type": "code",
   "execution_count": 14,
   "metadata": {},
   "outputs": [],
   "source": [
    "# Create dataset (TabularDataset)\n",
    "train_data, valid_data, test_data = data.TabularDataset.splits(\n",
    "                                        path = 'input',\n",
    "                                        train = 'train.json',\n",
    "                                        validation = 'val.json',\n",
    "                                        test = 'test.json',\n",
    "                                        format = 'json',\n",
    "                                        fields = fields\n",
    ")\n",
    "# test\n",
    "#print(vars(train_data[2]))"
   ]
  },
  {
   "cell_type": "markdown",
   "metadata": {},
   "source": [
    "### continue"
   ]
  },
  {
   "cell_type": "code",
   "execution_count": 15,
   "metadata": {},
   "outputs": [
    {
     "name": "stdout",
     "output_type": "stream",
     "text": [
      "torch.Size([25002, 50])\n"
     ]
    }
   ],
   "source": [
    "# GLOVE\n",
    "\n",
    "TEXT.build_vocab(train_data, max_size=25000, vectors=\"glove.6B.50d\")\n",
    "HEADLINE.build_vocab(train)\n",
    "LABELS.build_vocab(train)\n",
    "\n",
    "pretrained_embeddings = TEXT.vocab.vectors\n",
    "print(pretrained_embeddings.shape)"
   ]
  },
  {
   "cell_type": "code",
   "execution_count": 16,
   "metadata": {},
   "outputs": [
    {
     "name": "stdout",
     "output_type": "stream",
     "text": [
      "Number of training examples: 209841\n",
      "Number of validation examples: 44966\n",
      "Number of testing examples: 44966\n",
      "------------\n",
      "Unique tokens in TEXT vocabulary: 25002\n",
      "Unique tokens in LABELS vocabulary: 3\n"
     ]
    }
   ],
   "source": [
    "print(f'Number of training examples: {len(train_data)}')\n",
    "print(f'Number of validation examples: {len(valid_data)}')\n",
    "print(f'Number of testing examples: {len(test_data)}')\n",
    "print('------------')\n",
    "print(f\"Unique tokens in TEXT vocabulary: {len(TEXT.vocab)}\")\n",
    "print(f\"Unique tokens in LABELS vocabulary: {len(LABELS.vocab)}\")"
   ]
  },
  {
   "cell_type": "code",
   "execution_count": 17,
   "metadata": {},
   "outputs": [
    {
     "name": "stdout",
     "output_type": "stream",
     "text": [
      "[('the', 2179285), ('of', 1166347), ('to', 1162717), ('in', 925061), ('and', 867952), ('a', 866551), ('on', 533808), ('said', 413564), ('for', 406483), ('The', 343804)]\n",
      "-----\n",
      "['<unk>', '<pad>', 'the', 'of', 'to', 'in', 'and', 'a', 'on', 'said']\n",
      "defaultdict(<function _default_unk_index at 0x7efee0ed2d08>, {'codes': 0, 'headline': 1, 'text': 2})\n"
     ]
    }
   ],
   "source": [
    "print(TEXT.vocab.freqs.most_common(10))\n",
    "print('-----')\n",
    "print(TEXT.vocab.itos[:10])\n",
    "print(LABELS.vocab.stoi)"
   ]
  },
  {
   "cell_type": "code",
   "execution_count": 18,
   "metadata": {},
   "outputs": [],
   "source": [
    "BATCH_SIZE = 64\n",
    "\n",
    "device = torch.device('cuda' if torch.cuda.is_available() else 'cpu')\n",
    "\n",
    "train_iterator, valid_iterator, test_iterator = data.BucketIterator.splits(\n",
    "    (train_data, valid_data, test_data), \n",
    "    batch_size=BATCH_SIZE,\n",
    "    device=device,\n",
    "    sort_key= lambda x: len(x.t)\n",
    ")"
   ]
  },
  {
   "cell_type": "markdown",
   "metadata": {},
   "source": [
    "### F1 accuracy"
   ]
  },
  {
   "cell_type": "markdown",
   "metadata": {},
   "source": [
    "The results will be ranked according to the highest micro-averaged F1 score. \n",
    "This will be calculated using the f1_score function found in scikit-learn, using a command like \n",
    "f1_score(y_true, y_pred, average='micro') where y_true is the matrix with the ground truth, and y_pred \n",
    "the predicted output. Both matrices are binary, a 1 in row i and column j means that the image/document\n",
    "i contains the label j.\n",
    "\n",
    "Scikit:  Micro-average in F1-score\n",
    " \n",
    "'micro':\n",
    "    Calculate metrics globally by counting the total true positives, false negatives and false positives."
   ]
  },
  {
   "cell_type": "code",
   "execution_count": 19,
   "metadata": {},
   "outputs": [],
   "source": [
    "# f1 score for BATCH\n",
    "from sklearn.metrics import f1_score\n",
    "def f1_accuracy(preds, y):\n",
    "    \"\"\"\n",
    "    Returns f1 accuracy from sklearn\n",
    "    \"\"\"\n",
    "    #round predictions to the closest integer\n",
    "    #rounded_preds = torch.round(torch.sigmoid(preds))\n",
    "    rounded_preds = torch.round(preds)\n",
    "    \n",
    "    preds_cpu = rounded_preds.cpu().data.numpy()\n",
    "    y_cpu = y.cpu().data.numpy()\n",
    "    f1 = f1_score(y_cpu, preds_cpu, average='micro')\n",
    "    return f1 "
   ]
  },
  {
   "cell_type": "code",
   "execution_count": 20,
   "metadata": {},
   "outputs": [],
   "source": [
    "def f1_own_accuracy(preds, y):\n",
    "    '''Returns counts of true_pos, false_pos and false_negative.\n",
    "    For counting precision, recall and F1 globally\n",
    "    precision = true_pos / (true_pos + false_pos)\n",
    "    recall = true_pos / (true_pos + false_neg)\n",
    "    '''\n",
    "    #round predictions to the closest integer\n",
    "    #rounded_preds = torch.round(torch.sigmoid(preds))\n",
    "    rounded_preds = torch.round(preds)\n",
    "    \n",
    "    preds = rounded_preds.cpu().data.numpy()\n",
    "    y = y.cpu().data.numpy()\n",
    "        \n",
    "    # True positive\n",
    "    tpos = np.sum(np.logical_and(preds == 1, y == 1))\n",
    " \n",
    "    # True negative\n",
    "    #tneg = np.sum(np.logical_and(preds == 0, y == 0))\n",
    " \n",
    "    # False positive\n",
    "    fpos = np.sum(np.logical_and(preds == 1, y == 0))\n",
    " \n",
    "    # False negative\n",
    "    fneg = np.sum(np.logical_and(preds == 0, y == 1))\n",
    "\n",
    "    return tpos, fpos, fneg"
   ]
  },
  {
   "cell_type": "code",
   "execution_count": 21,
   "metadata": {},
   "outputs": [],
   "source": [
    "def binary_accuracy(preds, y):\n",
    "    \"\"\"\n",
    "    Returns accuracy per batch, i.e. if you get 8/10 right, this returns 0.8, NOT 8\n",
    "    \"\"\"\n",
    "\n",
    "    #round predictions to the closest integer\n",
    "    #rounded_preds = torch.round(torch.sigmoid(preds))\n",
    "    rounded_preds = torch.round(preds)\n",
    "    \n",
    "    correct = (rounded_preds == y).float() #convert into float for division \n",
    "    acc = correct.sum()/len(correct)\n",
    "    return acc"
   ]
  },
  {
   "cell_type": "code",
   "execution_count": 22,
   "metadata": {},
   "outputs": [],
   "source": [
    "# F1 version\n",
    "def train(model, iterator, optimizer, criterion):\n",
    "    \n",
    "    epoch_loss = 0\n",
    "    \n",
    "    epoch_tpos = 0\n",
    "    epoch_fpos = 0\n",
    "    epoch_fneg = 0\n",
    "    \n",
    "    model.train()\n",
    "    \n",
    "    for batch in iterator:\n",
    "        if batch.t.shape[1] != BATCH_SIZE:\n",
    "              continue\n",
    "        \n",
    "        optimizer.zero_grad()\n",
    "                \n",
    "        predictions = model(torch.cat((batch.t, batch.h))).squeeze(1)\n",
    "        \n",
    "        loss = criterion(predictions, batch.l.float())\n",
    "        \n",
    "        tpos, fpos, fneg = f1_own_accuracy(predictions, batch.l.float())\n",
    "        epoch_tpos += tpos\n",
    "        epoch_fpos += fpos\n",
    "        epoch_fneg += fneg\n",
    "        \n",
    "        loss.backward()\n",
    "        \n",
    "        optimizer.step()\n",
    "        \n",
    "        epoch_loss += loss.item()\n",
    "        #epoch_acc += acc.item()\n",
    "    \n",
    "    # Counted f1-score is Micro-average version\n",
    "    # avoid div by zero with epsilon. \n",
    "    # F1 for 0 - no labels is not defined, but here we give it score 1\n",
    "    eps = 1e-7\n",
    "    epoch_precision = epoch_tpos / (epoch_tpos + epoch_fpos +eps )\n",
    "    epoch_recall = epoch_tpos / (epoch_tpos + epoch_fneg +eps)\n",
    "    epoch_f1 = 2* (  ((epoch_precision * epoch_recall)+eps) / (epoch_precision + epoch_recall +2*eps))\n",
    "    \n",
    "    # if f1 is 1 with 0 labels (undefined), make it 0 to make plotting early train more realistic\n",
    "    if epoch_tpos==0:\n",
    "        epoch_f1 = 0\n",
    "    \n",
    "    return epoch_loss / len(iterator), epoch_precision, epoch_recall, epoch_f1"
   ]
  },
  {
   "cell_type": "code",
   "execution_count": 23,
   "metadata": {},
   "outputs": [],
   "source": [
    "# F1 version\n",
    "def evaluate(model, iterator, criterion):\n",
    "    \n",
    "    epoch_loss = 0\n",
    "    #epoch_acc = 0\n",
    "    epoch_tpos = 0\n",
    "    epoch_fpos = 0\n",
    "    epoch_fneg = 0    \n",
    "    \n",
    "    model.eval()\n",
    "    \n",
    "    with torch.no_grad():\n",
    "    \n",
    "        for batch in iterator:\n",
    "            if batch.t.shape[1] != BATCH_SIZE:\n",
    "                continue\n",
    "\n",
    "            predictions = model(torch.cat((batch.t, batch.h))).squeeze(1)\n",
    "            \n",
    "            loss = criterion(predictions, batch.l.float())\n",
    "            \n",
    "            tpos, fpos, fneg = f1_own_accuracy(predictions, batch.l.float())\n",
    "            epoch_tpos += tpos\n",
    "            epoch_fpos += fpos\n",
    "            epoch_fneg += fneg            \n",
    "\n",
    "            epoch_loss += loss.item()\n",
    "            #epoch_acc += acc.item()\n",
    "\n",
    "    # avoid div by zero with epsilon\n",
    "    eps = 1e-7\n",
    "    epoch_precision = epoch_tpos / (epoch_tpos + epoch_fpos +eps)\n",
    "    epoch_recall = epoch_tpos / (epoch_tpos + epoch_fneg +eps)\n",
    "    epoch_f1 = 2* (  ((epoch_precision * epoch_recall)+eps) / (epoch_precision + epoch_recall +2*eps))          \n",
    "    \n",
    "    # zero true_positive can cause F1=1, (because only 2*(epsilon / 2epsilon) remains, leading to 1)\n",
    "    # fix it to zero\n",
    "    if (epoch_precision==0 and epoch_recall==0):\n",
    "        epoch_f1 = 0\n",
    "    \n",
    "    return epoch_loss / len(iterator), epoch_precision, epoch_recall, epoch_f1"
   ]
  },
  {
   "cell_type": "code",
   "execution_count": 61,
   "metadata": {},
   "outputs": [],
   "source": [
    "def predict(model, iterator):\n",
    "        \n",
    "    model.eval()\n",
    "    preds = []\n",
    "    \n",
    "    with torch.no_grad():\n",
    "    \n",
    "        for batch in iterator:\n",
    "            if batch.t.shape[1] != BATCH_SIZE:\n",
    "                continue\n",
    "\n",
    "            predictions = model(torch.cat((batch.t, batch.h))).squeeze(1)\n",
    "            \n",
    "            preds.append(predictions)\n",
    "    \n",
    "    return preds"
   ]
  },
  {
   "cell_type": "markdown",
   "metadata": {},
   "source": [
    "### Load model"
   ]
  },
  {
   "cell_type": "code",
   "execution_count": 24,
   "metadata": {},
   "outputs": [],
   "source": [
    "# Common\n",
    "INPUT_DIM = len(TEXT.vocab)\n",
    "EMBEDDING_DIM = 50\n",
    "OUTPUT_DIM = 126"
   ]
  },
  {
   "cell_type": "markdown",
   "metadata": {},
   "source": [
    "### Models to try\n",
    "\n",
    "Add wanted models to list, then train them all"
   ]
  },
  {
   "cell_type": "code",
   "execution_count": 32,
   "metadata": {},
   "outputs": [],
   "source": [
    "# place to put model definitions\n",
    "try_models = []\n",
    "try_descs = []\n",
    "try_epochs = []"
   ]
  },
  {
   "cell_type": "markdown",
   "metadata": {},
   "source": [
    "### Try for best accuracy"
   ]
  },
  {
   "cell_type": "code",
   "execution_count": 33,
   "metadata": {},
   "outputs": [],
   "source": [
    "# CNN with high nr of filters\n",
    "N_FILTERS = 300\n",
    "FILTER_SIZES = [3,5,7]\n",
    "DROPOUT = 0.5\n",
    "N_EPOCHS = 6 # full data, try 6\n",
    "\n",
    "model = models.CNN2(INPUT_DIM, EMBEDDING_DIM, N_FILTERS, FILTER_SIZES, OUTPUT_DIM, DROPOUT)\n",
    "\n",
    "# 14 epochs gave f1 0.84\n",
    "desc = \"CNN 300x3,5,7 channel\"\n",
    "\n",
    "try_models.append(model)\n",
    "try_descs.append(desc)\n",
    "try_epochs.append(N_EPOCHS)"
   ]
  },
  {
   "cell_type": "raw",
   "metadata": {},
   "source": [
    "# CNN 1\n",
    "N_FILTERS = 100\n",
    "FILTER_SIZES = [3,4,5]\n",
    "DROPOUT = 0.5\n",
    "N_EPOCHS = 60 #60 enough for small-data\n",
    "\n",
    "model = models.CNN2(INPUT_DIM, EMBEDDING_DIM, N_FILTERS, FILTER_SIZES, OUTPUT_DIM, DROPOUT)\n",
    "desc = \"CNN 100x3,4,5 channel\"\n",
    "\n",
    "try_models.append(model)\n",
    "try_descs.append(desc)\n",
    "try_epochs.append(N_EPOCHS)"
   ]
  },
  {
   "cell_type": "raw",
   "metadata": {},
   "source": [
    "# CNN 2\n",
    "N_FILTERS = 200\n",
    "FILTER_SIZES = [3,5,7]\n",
    "DROPOUT = 0.5\n",
    "N_EPOCHS = 60\n",
    "\n",
    "model = models.CNN2(INPUT_DIM, EMBEDDING_DIM, N_FILTERS, FILTER_SIZES, OUTPUT_DIM, DROPOUT)\n",
    "\n",
    "# 14 epochs gave f1 0.84\n",
    "desc = \"CNN 200x3,5,7 channel\"\n",
    "\n",
    "try_models.append(model)\n",
    "try_descs.append(desc)\n",
    "try_epochs.append(N_EPOCHS)"
   ]
  },
  {
   "cell_type": "raw",
   "metadata": {},
   "source": [
    "#LSTM 1\n",
    "HIDDEN_DIM = 100\n",
    "N_EPOCHS = 200\n",
    "N_LAYERS = 1\n",
    "BIDIRECTIONAL = False\n",
    "\n",
    "model = models.LSTMv2(INPUT_DIM, OUTPUT_DIM, EMBEDDING_DIM, HIDDEN_DIM, N_LAYERS, BIDIRECTIONAL, device)\n",
    "model.hidden = model.init_hidden(64)\n",
    "\n",
    "desc = \"LSTM 100hidden 1-layer\"\n",
    "\n",
    "try_models.append(model)\n",
    "try_descs.append(desc)\n",
    "try_epochs.append(N_EPOCHS)"
   ]
  },
  {
   "cell_type": "raw",
   "metadata": {},
   "source": [
    "#LSTM 1b - 2-layer\n",
    "HIDDEN_DIM = 100\n",
    "N_EPOCHS = 200\n",
    "N_LAYERS = 2\n",
    "BIDIRECTIONAL = False\n",
    "\n",
    "model = models.LSTMv2(INPUT_DIM, OUTPUT_DIM, EMBEDDING_DIM, HIDDEN_DIM, N_LAYERS, BIDIRECTIONAL, device)\n",
    "model.hidden = model.init_hidden(64)\n",
    "\n",
    "desc = \"LSTM 100hidden 2-layer\"\n",
    "\n",
    "try_models.append(model)\n",
    "try_descs.append(desc)\n",
    "try_epochs.append(N_EPOCHS)"
   ]
  },
  {
   "cell_type": "raw",
   "metadata": {},
   "source": [
    "# LSTM 2\n",
    "HIDDEN_DIM = 250\n",
    "N_EPOCHS = 350\n",
    "N_LAYERS = 1\n",
    "BIDIRECTIONAL = False\n",
    "\n",
    "model = models.LSTM(INPUT_DIM, OUTPUT_DIM, EMBEDDING_DIM, HIDDEN_DIM, N_LAYERS, BIDIRECTIONAL, device)\n",
    "model.hidden = model.init_hidden(64)\n",
    "\n",
    "#model.embedding.weight.data.copy_(TEXT.vocab.vectors)\n",
    "optimizer = optim.SGD(model.parameters(), lr=0.02)\n",
    "\n",
    "desc = \"LSTM 250hidden 1-layer\"\n",
    "\n",
    "try_models.append(model)\n",
    "try_descs.append(desc)\n",
    "try_epochs.append(N_EPOCHS)"
   ]
  },
  {
   "cell_type": "raw",
   "metadata": {},
   "source": [
    "# LSTM-CNN\n",
    "N_FILTERS = 200\n",
    "HIDDEN_DIM = 100\n",
    "FILTER_SIZES = [3,5,7]\n",
    "N_EPOCHS=100\n",
    "\n",
    "model = models.LSTM_CNN(INPUT_DIM, EMBEDDING_DIM, N_FILTERS, FILTER_SIZES, OUTPUT_DIM, HIDDEN_DIM, device)\n",
    "model.hidden = model.init_hidden(64)\n",
    "\n",
    "desc = \"LSTM + CNN\"\n",
    "try_models.append(model)\n",
    "try_descs.append(desc)\n",
    "try_epochs.append(N_EPOCHS)"
   ]
  },
  {
   "cell_type": "raw",
   "metadata": {},
   "source": [
    "# CNN-LSTM\n",
    "HIDDEN_DIM = 100\n",
    "FILTER_SIZES = [3,5,7]\n",
    "N_FILTERS = 100\n",
    "N_EPOCHS= 300\n",
    "\n",
    "model = models.CNN_LSTM(INPUT_DIM, EMBEDDING_DIM, N_FILTERS, FILTER_SIZES, OUTPUT_DIM, HIDDEN_DIM, device)\n",
    "model.hidden = model.init_hidden(64)\n",
    "\n",
    "desc = \"CNN 100x3,5,7 channel + LSTM 100hidden\"\n",
    "try_models.append(model)\n",
    "try_descs.append(desc)\n",
    "try_epochs.append(N_EPOCHS)"
   ]
  },
  {
   "cell_type": "raw",
   "metadata": {},
   "source": [
    "# COMMON\n",
    "model = model.to(device)\n",
    "model.embedding.weight.data.copy_(pretrained_embeddings)\n",
    "\n",
    "#optimizer = optim.SGD(model.parameters(), lr=1e-3)\n",
    "optimizer = optim.Adam(model.parameters())\n",
    "#optimizer = optim.Adam(model.parameters(), lr=1e-2, betas=(0.9, 0.99))\n",
    "\n",
    "#criterion = nn.BCEWithLogitsLoss()\n",
    "criterion = nn.BCELoss()\n",
    "#criterion = nn.MultiLabelSoftMarginLoss()\n",
    "criterion = criterion.to(device)\n",
    "\n",
    "# Reset \n",
    "train_losses=[]\n",
    "train_f1s=[]\n",
    "val_losses=[]\n",
    "val_f1s=[]\n",
    "times=[]\n",
    "\n",
    "# If want repeatability\n",
    "SEED = 1\n",
    "torch.manual_seed(SEED)\n",
    "torch.cuda.manual_seed(SEED)\n",
    "torch.backends.cudnn.deterministic = True"
   ]
  },
  {
   "cell_type": "code",
   "execution_count": 27,
   "metadata": {},
   "outputs": [],
   "source": [
    "# COMMON\n",
    "def init_models():\n",
    "    ''' init global parameters'''\n",
    "    global model\n",
    "    global optimizer\n",
    "    global criterion\n",
    "    global train_losses\n",
    "    global train_f1s\n",
    "    global val_losses\n",
    "    global val_f1s\n",
    "    global times\n",
    "    global SEED\n",
    "    global torch\n",
    "    \n",
    "    model = model.to(device)\n",
    "    model.embedding.weight.data.copy_(pretrained_embeddings)\n",
    "\n",
    "    optimizer = optim.Adam(model.parameters())\n",
    "\n",
    "    #criterion = nn.BCEWithLogitsLoss()\n",
    "    criterion = nn.BCELoss()\n",
    "    criterion = criterion.to(device)\n",
    "\n",
    "    # Reset \n",
    "    train_losses=[]\n",
    "    train_f1s=[]\n",
    "    val_losses=[]\n",
    "    val_f1s=[]\n",
    "    times=[]\n",
    "\n",
    "    # If want repeatability\n",
    "    SEED = 1\n",
    "    torch.manual_seed(SEED)\n",
    "    torch.cuda.manual_seed(SEED)\n",
    "    \n",
    "    # Faster\n",
    "    torch.backends.cudnn.deterministic = False"
   ]
  },
  {
   "cell_type": "code",
   "execution_count": 66,
   "metadata": {},
   "outputs": [],
   "source": [
    "#model"
   ]
  },
  {
   "cell_type": "code",
   "execution_count": 67,
   "metadata": {},
   "outputs": [],
   "source": [
    "#optimizer # default Adam"
   ]
  },
  {
   "cell_type": "code",
   "execution_count": 68,
   "metadata": {},
   "outputs": [],
   "source": [
    "#optimizer = optim.Adam(model.parameters(), lr=1e-3, betas=(0.9, 0.99))"
   ]
  },
  {
   "cell_type": "code",
   "execution_count": 28,
   "metadata": {},
   "outputs": [
    {
     "data": {
      "text/plain": [
       "['CNN 300x3,5,7 channel']"
      ]
     },
     "execution_count": 28,
     "metadata": {},
     "output_type": "execute_result"
    }
   ],
   "source": [
    "try_descs"
   ]
  },
  {
   "cell_type": "markdown",
   "metadata": {},
   "source": [
    "### Train all models"
   ]
  },
  {
   "cell_type": "code",
   "execution_count": 34,
   "metadata": {},
   "outputs": [
    {
     "name": "stdout",
     "output_type": "stream",
     "text": [
      "Training model: CNN 300x3,5,7 channel\n",
      "| Ep:01 |Tr Loss:0.038 |Prec:0.849 |Rec:0.631 |f1:0.724 |Val Loss:0.030 |prec:0.801 |rec:0.821 |f1:0.811 |\n",
      "| Ep:02 |Tr Loss:0.026 |Prec:0.878 |Rec:0.748 |f1:0.808 |Val Loss:0.027 |prec:0.827 |rec:0.834 |f1:0.830 |\n",
      "| Ep:03 |Tr Loss:0.024 |Prec:0.886 |Rec:0.775 |f1:0.826 |Val Loss:0.028 |prec:0.815 |rec:0.852 |f1:0.833 |\n",
      "| Ep:04 |Tr Loss:0.023 |Prec:0.891 |Rec:0.789 |f1:0.837 |Val Loss:0.027 |prec:0.817 |rec:0.854 |f1:0.835 |\n",
      "| Ep:05 |Tr Loss:0.022 |Prec:0.895 |Rec:0.800 |f1:0.845 |Val Loss:0.027 |prec:0.819 |rec:0.855 |f1:0.837 |\n",
      "| Ep:06 |Tr Loss:0.021 |Prec:0.899 |Rec:0.808 |f1:0.852 |Val Loss:0.028 |prec:0.806 |rec:0.869 |f1:0.836 |\n",
      "| Test Loss: 0.028 ||Prec:0.801 |Rec:0.870 |Test F1: 0.834 |\n",
      " \n",
      " Total time used for training: 1887.8124935626984 s ##########\n",
      " \n"
     ]
    }
   ],
   "source": [
    "# Store results of training\n",
    "results = pd.DataFrame()\n",
    "\n",
    "for i in range(len(try_models)):\n",
    "    \n",
    "    model = try_models[i]\n",
    "    desc = try_descs[i]\n",
    "    epochs = try_epochs[i]\n",
    "    print(f'Training model: {desc}')\n",
    "\n",
    "    # init global parameters\n",
    "    init_models()\n",
    "    model_name = type(model).__name__\n",
    "    \n",
    "    test_f1 = 0 # skip for now\n",
    "\n",
    "    #N_EPOCHS = 3\n",
    "    N_EPOCHS = epochs\n",
    "\n",
    "    for epoch in range(N_EPOCHS):\n",
    "\n",
    "        start = time.time()\n",
    "        train_loss, train_precision, train_recall, train_f1 = train(model, train_iterator, optimizer, criterion)\n",
    "        end = time.time(); elapsed = end-start\n",
    "    \n",
    "        valid_loss, valid_precision, valid_recall, valid_f1 = evaluate(model, valid_iterator, criterion)\n",
    "    \n",
    "        times.append(elapsed) \n",
    "        train_losses.append(train_loss); train_f1s.append(train_f1)\n",
    "        val_losses.append(valid_loss); val_f1s.append(valid_f1)\n",
    "    \n",
    "        print(f'| Ep:{epoch+1:02} |Tr Loss:{train_loss:.3f} |Prec:{train_precision:.3f} |Rec:{train_recall:.3f} |f1:{train_f1:.3f} |Val Loss:{valid_loss:.3f} |prec:{valid_precision:.3f} |rec:{valid_recall:.3f} |f1:{valid_f1:.3f} |')        \n",
    "\n",
    "\n",
    "    #Test F1-score\n",
    "    test_loss, test_precision, test_recall, test_f1 = evaluate(model, test_iterator, criterion)\n",
    "    print(f'| Test Loss: {test_loss:.3f} ||Prec:{test_precision:.3f} |Rec:{test_recall:.3f} |Test F1:{test_f1: .3f} |')        \n",
    "        \n",
    "    # Store results\n",
    "    times_cumul = pd.Series(times).cumsum() # cumulative time    \n",
    "    results = results.append({'Model': model_name,\n",
    "                          'Desc' : desc,\n",
    "                          'Test_f1': test_f1,\n",
    "                          'Time': times_cumul,\n",
    "                          'Train_loss': pd.DataFrame({'Train_loss':train_losses}), \n",
    "                          'Train_f1': pd.DataFrame({'Train_f1':train_f1s}), \n",
    "                          'Val_loss': pd.DataFrame({'Val_loss':val_losses}), \n",
    "                          'Val_f1': pd.DataFrame({'Val_f1':val_f1s}),\n",
    "                                         }, ignore_index=True)\n",
    "\n",
    "    print(\" \")\n",
    "    print(f\" Total time used for training: {sum(times)} s ##########\")\n",
    "    print(\" \")"
   ]
  },
  {
   "cell_type": "code",
   "execution_count": null,
   "metadata": {},
   "outputs": [],
   "source": [
    "results   "
   ]
  },
  {
   "cell_type": "markdown",
   "metadata": {},
   "source": [
    "### Save the model"
   ]
  },
  {
   "cell_type": "markdown",
   "metadata": {},
   "source": [
    "For this version create the model object with same paramters as when training. Then load weights.\n",
    "This version saves also gradients etc."
   ]
  },
  {
   "cell_type": "code",
   "execution_count": 36,
   "metadata": {},
   "outputs": [],
   "source": [
    "torch.save(model.state_dict(), 'final_model_try_CNN300_f1_0_834.pkl')\n",
    "#torch.save(model, 'filename.pt')"
   ]
  },
  {
   "cell_type": "code",
   "execution_count": null,
   "metadata": {},
   "outputs": [],
   "source": [
    "model2 = RNN(input_dim=25002, embedding_dim=50, hidden_dim=256, output_dim=126)"
   ]
  },
  {
   "cell_type": "code",
   "execution_count": null,
   "metadata": {},
   "outputs": [],
   "source": [
    "model2.load_state_dict(torch.load('model.pkl'))\n",
    "                      "
   ]
  },
  {
   "cell_type": "code",
   "execution_count": null,
   "metadata": {},
   "outputs": [],
   "source": [
    "model2.eval()"
   ]
  },
  {
   "cell_type": "markdown",
   "metadata": {},
   "source": [
    "### Test it on test data"
   ]
  },
  {
   "cell_type": "code",
   "execution_count": 37,
   "metadata": {},
   "outputs": [
    {
     "name": "stdout",
     "output_type": "stream",
     "text": [
      "| Test Loss: 0.028 ||Prec:0.801 |Rec:0.870 |Test F1: 0.834 |\n"
     ]
    }
   ],
   "source": [
    "test_loss, test_precision, test_recall, test_f1 = evaluate(model, test_iterator, criterion)\n",
    "\n",
    "print(f'| Test Loss: {test_loss:.3f} ||Prec:{test_precision:.3f} |Rec:{test_recall:.3f} |Test F1:{test_f1: .3f} |')"
   ]
  },
  {
   "cell_type": "markdown",
   "metadata": {},
   "source": [
    "### Predict on new data"
   ]
  },
  {
   "cell_type": "code",
   "execution_count": 62,
   "metadata": {},
   "outputs": [],
   "source": [
    "# Test it on final test data\n",
    "new_data = reuters = pd.read_pickle('input/data_new.pkl')\n"
   ]
  },
  {
   "cell_type": "code",
   "execution_count": 63,
   "metadata": {},
   "outputs": [],
   "source": [
    "new_data.to_json('input/new_data.json', orient='records', lines=True)"
   ]
  },
  {
   "cell_type": "code",
   "execution_count": 70,
   "metadata": {},
   "outputs": [
    {
     "data": {
      "text/plain": [
       "{'headline': ('h', <torchtext.data.field.Field at 0x7efe7363d748>),\n",
       " 'text': ('t', <torchtext.data.field.Field at 0x7efe7363d908>)}"
      ]
     },
     "execution_count": 70,
     "metadata": {},
     "output_type": "execute_result"
    }
   ],
   "source": [
    "fields_predict = {'headline': ('h', HEADLINE), 'text': ('t', TEXT)} # 'codes': ('l', LABELS)\n",
    "fields_predict"
   ]
  },
  {
   "cell_type": "code",
   "execution_count": 73,
   "metadata": {},
   "outputs": [],
   "source": [
    "# New data dataset\n",
    "# Create dataset (TabularDataset)\n",
    "new_dataset = data.TabularDataset(\n",
    "                                        path = 'input/new_data.json',\n",
    "                                       # train = 'train.json',\n",
    "                                       # validation = 'val.json',\n",
    "                                       # test = 'test.json',\n",
    "                                      #new = 'new_data.json',\n",
    "                                        format = 'json',\n",
    "                                        fields = fields_predict\n",
    ")\n",
    "# test\n",
    "#print(vars(train_data[2]))"
   ]
  },
  {
   "cell_type": "code",
   "execution_count": 74,
   "metadata": {},
   "outputs": [
    {
     "data": {
      "text/plain": [
       "<torchtext.data.dataset.TabularDataset at 0x7efd6b4e97b8>"
      ]
     },
     "execution_count": 74,
     "metadata": {},
     "output_type": "execute_result"
    }
   ],
   "source": [
    "new_dataset"
   ]
  },
  {
   "cell_type": "code",
   "execution_count": 75,
   "metadata": {},
   "outputs": [],
   "source": [
    "BATCH_SIZE = 64\n",
    "\n",
    "device = torch.device('cuda' if torch.cuda.is_available() else 'cpu')\n",
    "\n",
    "new_iterator = data.BucketIterator.splits(\n",
    "    new_dataset, \n",
    "    batch_size=BATCH_SIZE,\n",
    "    device=device,\n",
    "    sort_key= lambda x: len(x.t)\n",
    ")"
   ]
  },
  {
   "cell_type": "code",
   "execution_count": 76,
   "metadata": {},
   "outputs": [
    {
     "ename": "AttributeError",
     "evalue": "'BucketIterator' object has no attribute 't'",
     "output_type": "error",
     "traceback": [
      "\u001b[0;31m---------------------------------------------------------------------------\u001b[0m",
      "\u001b[0;31mAttributeError\u001b[0m                            Traceback (most recent call last)",
      "\u001b[0;32m<ipython-input-76-3be7e865fa29>\u001b[0m in \u001b[0;36m<module>\u001b[0;34m()\u001b[0m\n\u001b[0;32m----> 1\u001b[0;31m \u001b[0mpreds\u001b[0m \u001b[0;34m=\u001b[0m \u001b[0mpredict\u001b[0m\u001b[0;34m(\u001b[0m\u001b[0mmodel\u001b[0m\u001b[0;34m,\u001b[0m \u001b[0mnew_iterator\u001b[0m\u001b[0;34m)\u001b[0m\u001b[0;34m\u001b[0m\u001b[0m\n\u001b[0m",
      "\u001b[0;32m<ipython-input-61-d4262b01c3c5>\u001b[0m in \u001b[0;36mpredict\u001b[0;34m(model, iterator)\u001b[0m\n\u001b[1;32m      7\u001b[0m \u001b[0;34m\u001b[0m\u001b[0m\n\u001b[1;32m      8\u001b[0m         \u001b[0;32mfor\u001b[0m \u001b[0mbatch\u001b[0m \u001b[0;32min\u001b[0m \u001b[0miterator\u001b[0m\u001b[0;34m:\u001b[0m\u001b[0;34m\u001b[0m\u001b[0m\n\u001b[0;32m----> 9\u001b[0;31m             \u001b[0;32mif\u001b[0m \u001b[0mbatch\u001b[0m\u001b[0;34m.\u001b[0m\u001b[0mt\u001b[0m\u001b[0;34m.\u001b[0m\u001b[0mshape\u001b[0m\u001b[0;34m[\u001b[0m\u001b[0;36m1\u001b[0m\u001b[0;34m]\u001b[0m \u001b[0;34m!=\u001b[0m \u001b[0mBATCH_SIZE\u001b[0m\u001b[0;34m:\u001b[0m\u001b[0;34m\u001b[0m\u001b[0m\n\u001b[0m\u001b[1;32m     10\u001b[0m                 \u001b[0;32mcontinue\u001b[0m\u001b[0;34m\u001b[0m\u001b[0m\n\u001b[1;32m     11\u001b[0m \u001b[0;34m\u001b[0m\u001b[0m\n",
      "\u001b[0;31mAttributeError\u001b[0m: 'BucketIterator' object has no attribute 't'"
     ]
    }
   ],
   "source": [
    "preds = predict(model, new_iterator)"
   ]
  },
  {
   "cell_type": "code",
   "execution_count": null,
   "metadata": {},
   "outputs": [],
   "source": []
  },
  {
   "cell_type": "code",
   "execution_count": null,
   "metadata": {},
   "outputs": [],
   "source": []
  },
  {
   "cell_type": "code",
   "execution_count": null,
   "metadata": {},
   "outputs": [],
   "source": []
  },
  {
   "cell_type": "code",
   "execution_count": null,
   "metadata": {},
   "outputs": [],
   "source": []
  },
  {
   "cell_type": "markdown",
   "metadata": {},
   "source": [
    "### Save with datetime"
   ]
  },
  {
   "cell_type": "code",
   "execution_count": null,
   "metadata": {},
   "outputs": [],
   "source": [
    "datetime_string = datetime.now().strftime(\"%Y%m%d-%H%M\")\n",
    "print(datetime_string)\n",
    "results.to_pickle('results'+datetime_string+'.pkl')"
   ]
  },
  {
   "cell_type": "markdown",
   "metadata": {},
   "source": [
    "### Optional - Load previous results from file and combine with them"
   ]
  },
  {
   "cell_type": "code",
   "execution_count": 139,
   "metadata": {},
   "outputs": [
    {
     "data": {
      "text/html": [
       "<div>\n",
       "<style scoped>\n",
       "    .dataframe tbody tr th:only-of-type {\n",
       "        vertical-align: middle;\n",
       "    }\n",
       "\n",
       "    .dataframe tbody tr th {\n",
       "        vertical-align: top;\n",
       "    }\n",
       "\n",
       "    .dataframe thead th {\n",
       "        text-align: right;\n",
       "    }\n",
       "</style>\n",
       "<table border=\"1\" class=\"dataframe\">\n",
       "  <thead>\n",
       "    <tr style=\"text-align: right;\">\n",
       "      <th></th>\n",
       "      <th>index</th>\n",
       "      <th>Desc</th>\n",
       "      <th>Model</th>\n",
       "      <th>Test_f1</th>\n",
       "      <th>Time</th>\n",
       "      <th>Train_f1</th>\n",
       "      <th>Train_loss</th>\n",
       "      <th>Val_f1</th>\n",
       "      <th>Val_loss</th>\n",
       "    </tr>\n",
       "  </thead>\n",
       "  <tbody>\n",
       "    <tr>\n",
       "      <th>0</th>\n",
       "      <td>0</td>\n",
       "      <td>CNN 100x3,4,5 channel</td>\n",
       "      <td>CNN2</td>\n",
       "      <td>0.0</td>\n",
       "      <td>0       2.033383\n",
       "1       4.057963\n",
       "2       6.04...</td>\n",
       "      <td>Train_f1\n",
       "0   0.101978\n",
       "1   0.211643\n",
       "2   0.3...</td>\n",
       "      <td>Train_loss\n",
       "0     0.175931\n",
       "1     0.085535\n",
       "2...</td>\n",
       "      <td>Val_f1\n",
       "0   0.244585\n",
       "1   0.313743\n",
       "2   0.3...</td>\n",
       "      <td>Val_loss\n",
       "0   0.084424\n",
       "1   0.074783\n",
       "2   0.0...</td>\n",
       "    </tr>\n",
       "    <tr>\n",
       "      <th>1</th>\n",
       "      <td>1</td>\n",
       "      <td>CNN 200x3,5,7 channel</td>\n",
       "      <td>CNN2</td>\n",
       "      <td>0.0</td>\n",
       "      <td>0       2.646583\n",
       "1       5.353121\n",
       "2       8.01...</td>\n",
       "      <td>Train_f1\n",
       "0   0.128607\n",
       "1   0.296442\n",
       "2   0.4...</td>\n",
       "      <td>Train_loss\n",
       "0     0.143135\n",
       "1     0.079795\n",
       "2...</td>\n",
       "      <td>Val_f1\n",
       "0   0.151629\n",
       "1   0.367912\n",
       "2   0.4...</td>\n",
       "      <td>Val_loss\n",
       "0   0.079683\n",
       "1   0.070345\n",
       "2   0.0...</td>\n",
       "    </tr>\n",
       "    <tr>\n",
       "      <th>2</th>\n",
       "      <td>2</td>\n",
       "      <td>LSTM 100hidden</td>\n",
       "      <td>LSTMv2</td>\n",
       "      <td>0.0</td>\n",
       "      <td>0        4.134671\n",
       "1        8.013720\n",
       "2       11...</td>\n",
       "      <td>Train_f1\n",
       "0    0.077242\n",
       "1    0.155904\n",
       "2   ...</td>\n",
       "      <td>Train_loss\n",
       "0      0.313618\n",
       "1      0.08410...</td>\n",
       "      <td>Val_f1\n",
       "0    0.000000\n",
       "1    0.244514\n",
       "2   ...</td>\n",
       "      <td>Val_loss\n",
       "0    0.086566\n",
       "1    0.077571\n",
       "2   ...</td>\n",
       "    </tr>\n",
       "    <tr>\n",
       "      <th>3</th>\n",
       "      <td>3</td>\n",
       "      <td>CNN + LSTM</td>\n",
       "      <td>CNN_LSTM</td>\n",
       "      <td>0.0</td>\n",
       "      <td>0        2.199593\n",
       "1        4.303869\n",
       "2        6...</td>\n",
       "      <td>Train_f1\n",
       "0    0.093868\n",
       "1    0.141473\n",
       "2   ...</td>\n",
       "      <td>Train_loss\n",
       "0      0.361047\n",
       "1      0.11532...</td>\n",
       "      <td>Val_f1\n",
       "0    0.244514\n",
       "1    0.244624\n",
       "2   ...</td>\n",
       "      <td>Val_loss\n",
       "0    0.138850\n",
       "1    0.091636\n",
       "2   ...</td>\n",
       "    </tr>\n",
       "    <tr>\n",
       "      <th>4</th>\n",
       "      <td>0</td>\n",
       "      <td>CNN + LSTM</td>\n",
       "      <td>CNN_LSTM</td>\n",
       "      <td>0.0</td>\n",
       "      <td>0       2.228526\n",
       "1       4.395858\n",
       "2       6.48...</td>\n",
       "      <td>Train_f1\n",
       "0   0.100212\n",
       "1   0.113684\n",
       "2   0.1...</td>\n",
       "      <td>Train_loss\n",
       "0     0.341986\n",
       "1     0.108824\n",
       "2...</td>\n",
       "      <td>Val_f1\n",
       "0   0.244624\n",
       "1   0.244624\n",
       "2   0.2...</td>\n",
       "      <td>Val_loss\n",
       "0   0.128116\n",
       "1   0.088825\n",
       "2   0.0...</td>\n",
       "    </tr>\n",
       "  </tbody>\n",
       "</table>\n",
       "</div>"
      ],
      "text/plain": [
       "   index                   Desc     Model  Test_f1  \\\n",
       "0      0  CNN 100x3,4,5 channel      CNN2      0.0   \n",
       "1      1  CNN 200x3,5,7 channel      CNN2      0.0   \n",
       "2      2         LSTM 100hidden    LSTMv2      0.0   \n",
       "3      3             CNN + LSTM  CNN_LSTM      0.0   \n",
       "4      0             CNN + LSTM  CNN_LSTM      0.0   \n",
       "\n",
       "                                                Time  \\\n",
       "0  0       2.033383\n",
       "1       4.057963\n",
       "2       6.04...   \n",
       "1  0       2.646583\n",
       "1       5.353121\n",
       "2       8.01...   \n",
       "2  0        4.134671\n",
       "1        8.013720\n",
       "2       11...   \n",
       "3  0        2.199593\n",
       "1        4.303869\n",
       "2        6...   \n",
       "4  0       2.228526\n",
       "1       4.395858\n",
       "2       6.48...   \n",
       "\n",
       "                                            Train_f1  \\\n",
       "0      Train_f1\n",
       "0   0.101978\n",
       "1   0.211643\n",
       "2   0.3...   \n",
       "1      Train_f1\n",
       "0   0.128607\n",
       "1   0.296442\n",
       "2   0.4...   \n",
       "2       Train_f1\n",
       "0    0.077242\n",
       "1    0.155904\n",
       "2   ...   \n",
       "3       Train_f1\n",
       "0    0.093868\n",
       "1    0.141473\n",
       "2   ...   \n",
       "4      Train_f1\n",
       "0   0.100212\n",
       "1   0.113684\n",
       "2   0.1...   \n",
       "\n",
       "                                          Train_loss  \\\n",
       "0      Train_loss\n",
       "0     0.175931\n",
       "1     0.085535\n",
       "2...   \n",
       "1      Train_loss\n",
       "0     0.143135\n",
       "1     0.079795\n",
       "2...   \n",
       "2       Train_loss\n",
       "0      0.313618\n",
       "1      0.08410...   \n",
       "3       Train_loss\n",
       "0      0.361047\n",
       "1      0.11532...   \n",
       "4      Train_loss\n",
       "0     0.341986\n",
       "1     0.108824\n",
       "2...   \n",
       "\n",
       "                                              Val_f1  \\\n",
       "0        Val_f1\n",
       "0   0.244585\n",
       "1   0.313743\n",
       "2   0.3...   \n",
       "1        Val_f1\n",
       "0   0.151629\n",
       "1   0.367912\n",
       "2   0.4...   \n",
       "2         Val_f1\n",
       "0    0.000000\n",
       "1    0.244514\n",
       "2   ...   \n",
       "3         Val_f1\n",
       "0    0.244514\n",
       "1    0.244624\n",
       "2   ...   \n",
       "4        Val_f1\n",
       "0   0.244624\n",
       "1   0.244624\n",
       "2   0.2...   \n",
       "\n",
       "                                            Val_loss  \n",
       "0      Val_loss\n",
       "0   0.084424\n",
       "1   0.074783\n",
       "2   0.0...  \n",
       "1      Val_loss\n",
       "0   0.079683\n",
       "1   0.070345\n",
       "2   0.0...  \n",
       "2       Val_loss\n",
       "0    0.086566\n",
       "1    0.077571\n",
       "2   ...  \n",
       "3       Val_loss\n",
       "0    0.138850\n",
       "1    0.091636\n",
       "2   ...  \n",
       "4      Val_loss\n",
       "0   0.128116\n",
       "1   0.088825\n",
       "2   0.0...  "
      ]
     },
     "execution_count": 139,
     "metadata": {},
     "output_type": "execute_result"
    }
   ],
   "source": [
    "results2 = pd.read_pickle('results.pkl')\n",
    "new = pd.concat([results, results2])\n",
    "new.reset_index(inplace=True)\n",
    "new\n",
    "\n",
    "# If want to cut part of results\n",
    "# results = results.iloc[[0,1,2]]"
   ]
  },
  {
   "cell_type": "markdown",
   "metadata": {},
   "source": [
    "### Save "
   ]
  },
  {
   "cell_type": "code",
   "execution_count": null,
   "metadata": {},
   "outputs": [],
   "source": [
    "datetime_string = datetime.now().strftime(\"%Y%m%d-%H%M\")\n",
    "print(datetime_string)\n",
    "results.to_pickle('results'+datetime_string+'.pkl')"
   ]
  },
  {
   "cell_type": "code",
   "execution_count": 83,
   "metadata": {},
   "outputs": [],
   "source": [
    "#results.to_pickle('results_gather.pkl')\n",
    "\n",
    "results.to_pickle('results.pkl')"
   ]
  },
  {
   "cell_type": "code",
   "execution_count": 87,
   "metadata": {},
   "outputs": [],
   "source": [
    "# OPTIONAL\n",
    "results = pd.read_pickle('results.pkl')"
   ]
  },
  {
   "cell_type": "code",
   "execution_count": null,
   "metadata": {},
   "outputs": [],
   "source": []
  },
  {
   "cell_type": "code",
   "execution_count": 120,
   "metadata": {},
   "outputs": [],
   "source": [
    "#results = results.iloc[[0,1,3]]\n",
    "#results.reset_index()"
   ]
  },
  {
   "cell_type": "markdown",
   "metadata": {},
   "source": [
    "### Plot"
   ]
  },
  {
   "cell_type": "code",
   "execution_count": 126,
   "metadata": {},
   "outputs": [
    {
     "data": {
      "image/png": "[encoded data removed]",
      "text/plain": [
       "<matplotlib.figure.Figure at 0x7f05db9b2160>"
      ]
     },
     "metadata": {},
     "output_type": "display_data"
    }
   ],
   "source": [
    "# F1 Per training time\n",
    "#epochs = len(train_losses)\n",
    "res = results\n",
    "plt.figure(figsize=(8,5))\n",
    "\n",
    "for i in range(len(res)):\n",
    "    \n",
    "    #epochs = len(res['Train_f1'][i])\n",
    "    #plt.plot(np.arange(1,epochs+1), res['Train_f1'][i], label=res['Model'][i] +' train f1')\n",
    "    plt.plot(res['Time'][i]/60, res['Val_f1'][i], label=res['Desc'][i] +'')\n",
    "\n",
    "plt.title('Validation F1 per training time')\n",
    "plt.xlabel('Training time: minutes', fontsize=10)\n",
    "plt.ylabel('Val F1', fontsize=10)\n",
    "plt.legend()\n",
    "plt.show()"
   ]
  },
  {
   "cell_type": "code",
   "execution_count": 136,
   "metadata": {},
   "outputs": [
    {
     "data": {
      "image/png": "[encoded data removed]",
      "text/plain": [
       "<matplotlib.figure.Figure at 0x7ff808082550>"
      ]
     },
     "metadata": {},
     "output_type": "display_data"
    }
   ],
   "source": [
    "# SAME WITH DIFFERENT BACKGROUND\n",
    "\n",
    "# grey background with lines\n",
    "plt.style.use('ggplot')\n",
    "\n",
    "#plt.switch_backend('agg')\n",
    "# F1 Per training time\n",
    "#epochs = len(train_losses)\n",
    "res = results\n",
    "plt.figure(figsize=(8,5))\n",
    "\n",
    "for i in range(len(res)):\n",
    "    \n",
    "    #epochs = len(res['Train_f1'][i])\n",
    "    #plt.plot(np.arange(1,epochs+1), res['Train_f1'][i], label=res['Model'][i] +' train f1')\n",
    "    plt.plot(res['Time'][i]/60, res['Val_f1'][i], label=res['Model'][i] +'')\n",
    "\n",
    "plt.title('Validation F1 per training time')\n",
    "plt.xlabel('Training time: minutes', fontsize=10)\n",
    "plt.ylabel('Val F1', fontsize=10)\n",
    "plt.legend()\n",
    "plt.show()"
   ]
  },
  {
   "cell_type": "markdown",
   "metadata": {},
   "source": [
    "### Rest is Extra - not included yet"
   ]
  },
  {
   "cell_type": "markdown",
   "metadata": {},
   "source": [
    "### Train individual"
   ]
  },
  {
   "cell_type": "code",
   "execution_count": 64,
   "metadata": {},
   "outputs": [
    {
     "data": {
      "text/plain": [
       "458.6244578361511"
      ]
     },
     "execution_count": 64,
     "metadata": {},
     "output_type": "execute_result"
    }
   ],
   "source": [
    "# on small1-data\n",
    "# LSTM v2, 400 epoch, val f1 0.529 1900 sec\n",
    "# CNN \"CNN 200x3,5,7 channel\" , 44 epochs. 0.756, about 140 sec\n",
    "\n",
    "sum(times)"
   ]
  },
  {
   "cell_type": "code",
   "execution_count": 33,
   "metadata": {},
   "outputs": [],
   "source": [
    "optimizer = optim.SGD(model.parameters(), lr=1e-1)"
   ]
  },
  {
   "cell_type": "markdown",
   "metadata": {},
   "source": [
    "### Results"
   ]
  },
  {
   "cell_type": "code",
   "execution_count": 30,
   "metadata": {},
   "outputs": [
    {
     "data": {
      "text/plain": [
       "<matplotlib.legend.Legend at 0x7fcfcec4f2e8>"
      ]
     },
     "execution_count": 30,
     "metadata": {},
     "output_type": "execute_result"
    },
    {
     "data": {
      "image/png": "[encoded data removed]",
      "text/plain": [
       "<matplotlib.figure.Figure at 0x7fcfe6e54160>"
      ]
     },
     "metadata": {},
     "output_type": "display_data"
    }
   ],
   "source": [
    "import matplotlib.pyplot as plt\n",
    "%matplotlib inline\n",
    "epochs = len(train_losses)\n",
    "\n",
    "plt.figure(figsize=(8,5))\n",
    "plt.plot(np.arange(1,epochs+1), train_losses, label='train loss')\n",
    "plt.plot(np.arange(1,epochs+1), val_losses, label='val loss')\n",
    "plt.title('train and val loss')\n",
    "plt.legend()"
   ]
  },
  {
   "cell_type": "code",
   "execution_count": 31,
   "metadata": {},
   "outputs": [
    {
     "data": {
      "text/plain": [
       "<matplotlib.legend.Legend at 0x7fcfcc1b5630>"
      ]
     },
     "execution_count": 31,
     "metadata": {},
     "output_type": "execute_result"
    },
    {
     "data": {
      "image/png": "[encoded data removed]",
      "text/plain": [
       "<matplotlib.figure.Figure at 0x7fcfcec76748>"
      ]
     },
     "metadata": {},
     "output_type": "display_data"
    }
   ],
   "source": [
    "# Per ecpoh\n",
    "\n",
    "plt.figure(figsize=(8,5))\n",
    "plt.plot(np.arange(1,epochs+1), train_f1s, label='train f1')\n",
    "plt.plot(np.arange(1,epochs+1), val_f1s, label='val f1')\n",
    "plt.title('train and val F1')\n",
    "plt.legend()"
   ]
  },
  {
   "cell_type": "code",
   "execution_count": 65,
   "metadata": {},
   "outputs": [
    {
     "data": {
      "text/plain": [
       "<matplotlib.legend.Legend at 0x7fcfc4358630>"
      ]
     },
     "execution_count": 65,
     "metadata": {},
     "output_type": "execute_result"
    },
    {
     "data": {
      "image/png": "[encoded data removed]",
      "text/plain": [
       "<matplotlib.figure.Figure at 0x7fcfc437e0f0>"
      ]
     },
     "metadata": {},
     "output_type": "display_data"
    }
   ],
   "source": [
    "# Per time\n",
    "\n",
    "times_cumul = pd.Series(times).cumsum() # cumulative time\n",
    "\n",
    "plt.figure(figsize=(8,5))\n",
    "plt.plot(times_cumul, train_f1s, label='train f1')\n",
    "plt.plot(times_cumul, val_f1s, label='val f1')\n",
    "plt.title('train and val F1')\n",
    "plt.xlabel('Time in seconds', fontsize=10)\n",
    "plt.ylabel('val F1', fontsize=10)\n",
    "plt.legend()"
   ]
  },
  {
   "cell_type": "code",
   "execution_count": null,
   "metadata": {},
   "outputs": [],
   "source": [
    "model2.load_state_dict(torch.load('model.pkl'))\n",
    "                      "
   ]
  },
  {
   "cell_type": "code",
   "execution_count": null,
   "metadata": {},
   "outputs": [],
   "source": [
    "model2.eval()"
   ]
  },
  {
   "cell_type": "markdown",
   "metadata": {},
   "source": [
    "### Test it on test data"
   ]
  },
  {
   "cell_type": "code",
   "execution_count": 136,
   "metadata": {},
   "outputs": [
    {
     "name": "stdout",
     "output_type": "stream",
     "text": [
      "| Test Loss: 0.060 ||Prec:0.707 |Rec:0.650 |Test F1: 0.677 |\n"
     ]
    }
   ],
   "source": [
    "test_loss, test_precision, test_recall, test_f1 = evaluate(model, test_iterator, criterion)\n",
    "\n",
    "print(f'| Test Loss: {test_loss:.3f} ||Prec:{test_precision:.3f} |Rec:{test_recall:.3f} |Test F1:{test_f1: .3f} |')"
   ]
  },
  {
   "cell_type": "markdown",
   "metadata": {},
   "source": [
    "### Use final scoring \n",
    "\n",
    "The results will be ranked according to the highest micro-averaged F1 score. This will be calculated using the f1_score function found in scikit-learn, using a command like f1_score(y_true, y_pred, average='micro') where y_true is the matrix with the ground truth, and y_pred the predicted output. Both matrices are binary, a 1 in row i and column j means that the image/document i contains the label j."
   ]
  },
  {
   "cell_type": "code",
   "execution_count": null,
   "metadata": {},
   "outputs": [],
   "source": []
  },
  {
   "cell_type": "code",
   "execution_count": null,
   "metadata": {},
   "outputs": [],
   "source": []
  },
  {
   "cell_type": "code",
   "execution_count": null,
   "metadata": {},
   "outputs": [],
   "source": [
    "from sklearn.metrics import f1_score\n",
    "f1_score()"
   ]
  }
 ],
 "metadata": {
  "kernelspec": {
   "display_name": "Python 3",
   "language": "python",
   "name": "python3"
  },
  "language_info": {
   "codemirror_mode": {
    "name": "ipython",
    "version": 3
   },
   "file_extension": ".py",
   "mimetype": "text/x-python",
   "name": "python",
   "nbconvert_exporter": "python",
   "pygments_lexer": "ipython3",
   "version": "3.6.4"
  }
 },
 "nbformat": 4,
 "nbformat_minor": 2
}
