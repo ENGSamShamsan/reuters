{
 "cells": [
  {
   "cell_type": "markdown",
   "metadata": {},
   "source": [
    "## Your stuff goes here ..."
   ]
  },
  {
   "cell_type": "code",
   "execution_count": null,
   "metadata": {},
   "outputs": [],
   "source": [
    "import os\n",
    "import torch\n",
    "from torchvision.datasets.utils #import download_url\n",
    "import zipfile\n",
    "\n",
    "import pandas as pd"
   ]
  },
  {
   "cell_type": "markdown",
   "metadata": {},
   "source": [
    "### Load data"
   ]
  },
  {
   "cell_type": "code",
   "execution_count": 4,
   "metadata": {},
   "outputs": [
    {
     "name": "stdout",
     "output_type": "stream",
     "text": [
      "3426\n"
     ]
    },
    {
     "data": {
      "text/html": [
       "<div>\n",
       "<style scoped>\n",
       "    .dataframe tbody tr th:only-of-type {\n",
       "        vertical-align: middle;\n",
       "    }\n",
       "\n",
       "    .dataframe tbody tr th {\n",
       "        vertical-align: top;\n",
       "    }\n",
       "\n",
       "    .dataframe thead th {\n",
       "        text-align: right;\n",
       "    }\n",
       "</style>\n",
       "<table border=\"1\" class=\"dataframe\">\n",
       "  <thead>\n",
       "    <tr style=\"text-align: right;\">\n",
       "      <th></th>\n",
       "      <th>codes</th>\n",
       "      <th>headline</th>\n",
       "      <th>text</th>\n",
       "    </tr>\n",
       "  </thead>\n",
       "  <tbody>\n",
       "    <tr>\n",
       "      <th>0</th>\n",
       "      <td>[C18, C181, CCAT]</td>\n",
       "      <td>Eureko is latest suitor for French insurer GAN.</td>\n",
       "      <td>\\nEureko, an alliance of six European financia...</td>\n",
       "    </tr>\n",
       "    <tr>\n",
       "      <th>1</th>\n",
       "      <td>[G15, GCAT]</td>\n",
       "      <td>Reuter EC Report Long-Term Diary for July 28 -...</td>\n",
       "      <td>\\n****\\nHIGHLIGHTS\\n****\\nLUXEMBOURG - Luxembo...</td>\n",
       "    </tr>\n",
       "    <tr>\n",
       "      <th>2</th>\n",
       "      <td>[G15, GCAT]</td>\n",
       "      <td>Official Journal contents - OJ L 190 of July 1...</td>\n",
       "      <td>\\n*\\n(Note - contents are displayed in reverse...</td>\n",
       "    </tr>\n",
       "    <tr>\n",
       "      <th>3</th>\n",
       "      <td>[G15, GCAT]</td>\n",
       "      <td>Official Journal contents - OJ C 221 of July 1...</td>\n",
       "      <td>\\n*\\n(Note - contents are displayed in reverse...</td>\n",
       "    </tr>\n",
       "    <tr>\n",
       "      <th>4</th>\n",
       "      <td>[G15, GCAT]</td>\n",
       "      <td>Official Journal contents - OJ C 220 of July 1...</td>\n",
       "      <td>\\n*\\n(Note - contents are displayed in reverse...</td>\n",
       "    </tr>\n",
       "  </tbody>\n",
       "</table>\n",
       "</div>"
      ],
      "text/plain": [
       "               codes                                           headline  \\\n",
       "0  [C18, C181, CCAT]    Eureko is latest suitor for French insurer GAN.   \n",
       "1        [G15, GCAT]  Reuter EC Report Long-Term Diary for July 28 -...   \n",
       "2        [G15, GCAT]  Official Journal contents - OJ L 190 of July 1...   \n",
       "3        [G15, GCAT]  Official Journal contents - OJ C 221 of July 1...   \n",
       "4        [G15, GCAT]  Official Journal contents - OJ C 220 of July 1...   \n",
       "\n",
       "                                                text  \n",
       "0  \\nEureko, an alliance of six European financia...  \n",
       "1  \\n****\\nHIGHLIGHTS\\n****\\nLUXEMBOURG - Luxembo...  \n",
       "2  \\n*\\n(Note - contents are displayed in reverse...  \n",
       "3  \\n*\\n(Note - contents are displayed in reverse...  \n",
       "4  \\n*\\n(Note - contents are displayed in reverse...  "
      ]
     },
     "execution_count": 4,
     "metadata": {},
     "output_type": "execute_result"
    }
   ],
   "source": [
    "# Read data - short version 3400+ documents\n",
    "reuters = pd.read_pickle('input/reuters_small.pkl')\n",
    "print(len(reuters))\n",
    "reuters[0:5]"
   ]
  },
  {
   "cell_type": "code",
   "execution_count": null,
   "metadata": {},
   "outputs": [],
   "source": [
    "# load full data, if produced. 435 MB. NOT in Github currently. \n",
    "# You can produce this in about 30 min with preprocess_data.ipynb\n",
    "\n",
    "#reuters = pd.read_pickle('input/reuters_all.pkl')"
   ]
  },
  {
   "cell_type": "code",
   "execution_count": 63,
   "metadata": {},
   "outputs": [
    {
     "name": "stdout",
     "output_type": "stream",
     "text": [
      "126\n"
     ]
    }
   ],
   "source": [
    "# read classcodes\n",
    "classcodes= pd.read_csv('input/classcodes.csv')\n",
    "print(len(classcodes))\n",
    "#classcodes[0:12]"
   ]
  },
  {
   "cell_type": "markdown",
   "metadata": {},
   "source": [
    "### Using DataSet\n"
   ]
  },
  {
   "cell_type": "markdown",
   "metadata": {},
   "source": [
    "Example in:\n",
    "https://github.com/bentrevett/pytorch-sentiment-analysis/blob/master/A%20-%20Using%20TorchText%20with%20Your%20Own%20Datasets.ipynb"
   ]
  },
  {
   "cell_type": "code",
   "execution_count": 68,
   "metadata": {},
   "outputs": [],
   "source": [
    "from torchtext import data\n",
    "from torchtext import datasets\n",
    "\n",
    "#Define the Fields\n",
    "TEXT = data.Field()\n",
    "HEADLINE = data.Field()\n",
    "\n",
    "LABELS = data.LabelField()\n",
    "#CLASSES = data.LabelField()"
   ]
  },
  {
   "cell_type": "code",
   "execution_count": 69,
   "metadata": {},
   "outputs": [
    {
     "data": {
      "text/html": [
       "<div>\n",
       "<style scoped>\n",
       "    .dataframe tbody tr th:only-of-type {\n",
       "        vertical-align: middle;\n",
       "    }\n",
       "\n",
       "    .dataframe tbody tr th {\n",
       "        vertical-align: top;\n",
       "    }\n",
       "\n",
       "    .dataframe thead th {\n",
       "        text-align: right;\n",
       "    }\n",
       "</style>\n",
       "<table border=\"1\" class=\"dataframe\">\n",
       "  <thead>\n",
       "    <tr style=\"text-align: right;\">\n",
       "      <th></th>\n",
       "      <th>codes</th>\n",
       "      <th>headline</th>\n",
       "      <th>text</th>\n",
       "      <th>classes</th>\n",
       "    </tr>\n",
       "  </thead>\n",
       "  <tbody>\n",
       "    <tr>\n",
       "      <th>0</th>\n",
       "      <td>[C18, C181, CCAT]</td>\n",
       "      <td>Eureko is latest suitor for French insurer GAN.</td>\n",
       "      <td>\\nEureko, an alliance of six European financia...</td>\n",
       "      <td>[25, 26, 44]</td>\n",
       "    </tr>\n",
       "    <tr>\n",
       "      <th>1</th>\n",
       "      <td>[G15, GCAT]</td>\n",
       "      <td>Reuter EC Report Long-Term Diary for July 28 -...</td>\n",
       "      <td>\\n****\\nHIGHLIGHTS\\n****\\nLUXEMBOURG - Luxembo...</td>\n",
       "      <td>[80, 90]</td>\n",
       "    </tr>\n",
       "    <tr>\n",
       "      <th>2</th>\n",
       "      <td>[G15, GCAT]</td>\n",
       "      <td>Official Journal contents - OJ L 190 of July 1...</td>\n",
       "      <td>\\n*\\n(Note - contents are displayed in reverse...</td>\n",
       "      <td>[80, 90]</td>\n",
       "    </tr>\n",
       "    <tr>\n",
       "      <th>3</th>\n",
       "      <td>[G15, GCAT]</td>\n",
       "      <td>Official Journal contents - OJ C 221 of July 1...</td>\n",
       "      <td>\\n*\\n(Note - contents are displayed in reverse...</td>\n",
       "      <td>[80, 90]</td>\n",
       "    </tr>\n",
       "    <tr>\n",
       "      <th>4</th>\n",
       "      <td>[G15, GCAT]</td>\n",
       "      <td>Official Journal contents - OJ C 220 of July 1...</td>\n",
       "      <td>\\n*\\n(Note - contents are displayed in reverse...</td>\n",
       "      <td>[80, 90]</td>\n",
       "    </tr>\n",
       "  </tbody>\n",
       "</table>\n",
       "</div>"
      ],
      "text/plain": [
       "               codes                                           headline  \\\n",
       "0  [C18, C181, CCAT]    Eureko is latest suitor for French insurer GAN.   \n",
       "1        [G15, GCAT]  Reuter EC Report Long-Term Diary for July 28 -...   \n",
       "2        [G15, GCAT]  Official Journal contents - OJ L 190 of July 1...   \n",
       "3        [G15, GCAT]  Official Journal contents - OJ C 221 of July 1...   \n",
       "4        [G15, GCAT]  Official Journal contents - OJ C 220 of July 1...   \n",
       "\n",
       "                                                text       classes  \n",
       "0  \\nEureko, an alliance of six European financia...  [25, 26, 44]  \n",
       "1  \\n****\\nHIGHLIGHTS\\n****\\nLUXEMBOURG - Luxembo...      [80, 90]  \n",
       "2  \\n*\\n(Note - contents are displayed in reverse...      [80, 90]  \n",
       "3  \\n*\\n(Note - contents are displayed in reverse...      [80, 90]  \n",
       "4  \\n*\\n(Note - contents are displayed in reverse...      [80, 90]  "
      ]
     },
     "execution_count": 69,
     "metadata": {},
     "output_type": "execute_result"
    }
   ],
   "source": [
    "reuters[0:5]"
   ]
  },
  {
   "cell_type": "code",
   "execution_count": 70,
   "metadata": {},
   "outputs": [
    {
     "data": {
      "text/plain": [
       "3426"
      ]
     },
     "execution_count": 70,
     "metadata": {},
     "output_type": "execute_result"
    }
   ],
   "source": [
    "len(reuters)"
   ]
  },
  {
   "cell_type": "code",
   "execution_count": 71,
   "metadata": {},
   "outputs": [],
   "source": [
    "### Test, save pd df to JSON\n",
    "                            # one record at time, one record by line\n",
    "reuters.to_json('input/reuters_small.json', orient='records', lines=True)"
   ]
  },
  {
   "cell_type": "code",
   "execution_count": 72,
   "metadata": {},
   "outputs": [],
   "source": [
    "# split it\n",
    "train = reuters[0:2500]\n",
    "test = reuters[2500:3000]\n",
    "val = reuters[3000:len(reuters)]\n",
    "\n",
    "train.to_json('input/train.json', orient='records', lines=True)\n",
    "test.to_json('input/test.json', orient='records', lines=True)\n",
    "val.to_json('input/val.json', orient='records', lines=True)"
   ]
  },
  {
   "cell_type": "code",
   "execution_count": null,
   "metadata": {},
   "outputs": [],
   "source": []
  },
  {
   "cell_type": "code",
   "execution_count": 73,
   "metadata": {},
   "outputs": [],
   "source": [
    "# Tell torchText which Fields to apply to which json elements\n",
    "\n",
    "fields = {'text': ('t', TEXT), 'headline': ('h', HEADLINE), 'classes': ('l', LABELS)}"
   ]
  },
  {
   "cell_type": "code",
   "execution_count": 74,
   "metadata": {},
   "outputs": [
    {
     "data": {
      "text/plain": [
       "{'text': ('t', <torchtext.data.field.Field at 0x7fa0ef9912e8>),\n",
       " 'headline': ('h', <torchtext.data.field.Field at 0x7fa0ef9916a0>),\n",
       " 'classes': ('l', <torchtext.data.field.LabelField at 0x7fa0ef9916d8>)}"
      ]
     },
     "execution_count": 74,
     "metadata": {},
     "output_type": "execute_result"
    }
   ],
   "source": [
    "fields"
   ]
  },
  {
   "cell_type": "code",
   "execution_count": 75,
   "metadata": {},
   "outputs": [],
   "source": [
    "# Create dataset\n",
    "train_data, valid_data, test_data = data.TabularDataset.splits(\n",
    "                                        path = 'input',\n",
    "                                        train = 'train.json',\n",
    "                                        validation = 'val.json',\n",
    "                                        test = 'test.json',\n",
    "                                        format = 'json',\n",
    "                                        fields = fields\n",
    ")"
   ]
  },
  {
   "cell_type": "code",
   "execution_count": 76,
   "metadata": {},
   "outputs": [
    {
     "name": "stdout",
     "output_type": "stream",
     "text": [
      "{'t': ['Eureko,', 'an', 'alliance', 'of', 'six', 'European', 'financial', 'services', 'companies,', 'emerged', 'on', 'Tuesday', 'as', 'the', 'latest', 'suitor', 'for', 'ailing', 'French', 'state-controlled', 'insurer', 'GAN', 'which', 'the', 'new', 'leftist', 'government', 'plans', 'to', 'privatise.', '\"Eureko', 'has', 'proposed', 'to', 'government', 'authorities', 'and', 'to', 'GAN', 'management', 'a', 'solution', 'which', 'would', 'allow', 'the', 'French', 'insurance', 'company', 'to', 'remain', 'intact', 'and', 'to', 'develop', 'its', 'national', 'and', 'international', 'position,\"', 'the', 'Dutch', 'holding', 'firm', 'said.', 'The', 'Amsterdam-based', 'group,', 'which', 'has', 'no', 'presence', 'in', 'France,', 'said', 'in', 'a', 'statement', 'its', 'goal', 'was', 'to', 'take', 'a', '\"strong', 'position', 'in', 'the', 'French', 'market,', 'one', 'of', 'the', 'most', 'important', 'in', 'Europe\".', 'Eureko,', \"Europe's\", 'seventh', 'biggest', 'insurance', 'group,', 'said', 'the', 'acquisition', 'would', 'propel', 'it', 'into', 'third', 'spot.', 'It', 'said', 'it', 'wanted', 'to', 'take', 'over', 'all', 'of', 'GAN', 'and', 'a', 'maximum', 'of', '25', 'percent', 'of', 'CIC,', \"GAN's\", 'profitable', 'banking', 'network.', 'GAN', 'shares', 'were', 'up', '3.15', 'percent', 'at', '150.60', 'francs', 'after', 'the', 'announcement,', 'outpacing', 'the', 'overall', 'Paris', 'market.', 'Eureko', 'executive', 'director', 'Ernst', 'Jansen', 'said', 'the', 'amount', 'of', 'the', 'offer', 'would', 'hinge', 'on', 'conditions', 'the', 'government', 'imposed', 'on', 'the', 'sale', 'and', 'a', 'planned', 'state', 'recapitalisation', 'of', 'GAN,', 'which', 'lost', '5.7', 'billion', 'francs', 'last', 'year', 'because', 'of', 'bad', 'property', 'deals.', 'The', 'previous', 'conservative', 'government', 'announced', 'in', 'February', 'a', '20', 'billion', 'franc', 'rescue', 'which', 'still', 'awaits', 'approval', 'by', 'the', 'European', 'Commission.', 'Despite', 'its', 'troubles,', 'GAN', 'has', 'become', 'widely', 'sought', 'after', 'in', 'the', 'consolidation', 'wave', 'sweeping', 'the', 'global', 'insurance', 'market.', 'French', 'insurer', 'AGF,', 'Allianz', 'AG', 'of', 'Germany,', 'Fortis', 'AG,', 'Assicurazioni', 'Generali', 'SpA', 'of', 'Italy', 'and', 'ING', 'Groep', 'of', 'the', 'Netherlands', 'have', 'either', 'expressed', 'interest', 'in', 'acquiring', 'GAN', 'or', 'are', 'likely', 'candidates,', 'GAN', 'chairman', 'Didier', 'Pfieffer', 'has', 'said.', 'French', 'mutual', 'insurer', 'MAAF', 'has', 'also', 'said', 'it', 'would', 'like', 'to', 'team', 'up', 'with', 'other', 'firms', 'to', 'buy', 'GAN.', 'Retreating', 'from', 'its', 'anti-privatisation', 'stand,', 'the', 'government', 'said', 'on', 'Friday', 'it', 'would', 'not', 'block', 'the', 'sale', 'planned', 'by', 'the', 'conservatives', 'of', 'GAN', 'and', 'CIC,', 'one', 'of', \"France's\", '10', 'largest', 'banks.', 'Jansen', 'told', 'Reuters', 'the', 'group', 'aimed', 'to', 'merge', 'GAN', 'with', 'the', 'Dutch', 'holding', 'company', 'and', '\"bring', 'the', 'totality', 'back', 'to', 'the', 'stock', 'exchange', 'in', 'two', 'or', 'three', 'years\".', 'Shares', 'would', 'be', 'listed', 'in', 'Paris,', 'Amsterdam', 'and', 'London.', '\"Our', 'intention', 'is', 'to', 'put', 'more', 'and', 'more', 'operations', 'into', 'Eureko', 'as', 'a', 'common', 'company.', 'GAN', 'would', 'give', 'a', 'lot', 'of', 'content', 'and', 'we', 'would', 'add', 'money', 'and', 'businesses,\"', 'he', 'said', 'in', 'an', 'interview.', 'Eureko', 'could', 'offer', 'a', '\"national', 'solution\"', 'for', 'GAN,', 'he', 'said.', 'It', 'would', 'maintain', 'GAN', '\"in', 'its', 'integrity...', 'we', 'would', 'maintain', 'the', 'brand', 'name.', 'We', 'have', 'good', 'geographical', 'complementarity', 'for', \"GAN's\", 'international', 'positions.', 'We', 'think', 'we', 'have', 'a', 'very', 'good', 'offer.\"', 'The', 'government', 'said', 'last', 'week', 'national', 'interests', '\"could', 'be', 'respected', 'so', 'long', 'as', '(GAN', 'and', 'CIC)', 'are', 'integrated', 'in', 'larger', 'entities', 'capable', 'of', 'giving', 'them', 'the', 'means', 'to', 'develop.\"', 'Eureko,', 'founded', 'in', '1992,', 'is', 'made', 'up', 'of', 'Dutch', 'Achmea,', 'BCP/Atlantico', 'of', 'Portugal,', 'French', 'Provident,', 'Parion', 'of', 'Germany,', 'Danish', 'Topdanmark', 'and', 'Wasa', 'of', 'Sweden.', 'Jansen', 'said', 'Eureko', 'had', 'been', 'in', 'touch', 'with', 'the', 'government', 'about', 'its', 'interest', 'and', 'decided', 'to', 'go', 'public', 'after', 'the', 'government', 'gave', 'the', 'green', 'light', 'to', 'the', 'sale.', '\"We', 'have', 'been', 'a', 'bit', 'of', 'a', 'dark', 'horse.\"', 'GAN', 'had', 'an', 'interesting', 'brand', 'and', 'a', 'good', 'commercial', 'network,', 'he', 'said.', '\"We\\'re', 'interested', 'in', 'the', 'relationship', 'with', 'CIC', 'and', 'its', 'bancassurance', 'links,\"', 'he', 'said.', '\"We\\'d', 'like', 'to', 'talk', 'to', 'people', 'who', 'are', 'interested', 'in', 'CIC', 'to', 'see', 'whether', \"they're\", 'interested', 'in', 'us', 'taking', 'a', 'minority', 'role', 'to', 'maintain', 'that', 'bancassurance', 'link,\"', 'he', 'said.', 'Last', 'year,', 'the', 'conservative', 'government', 'had', 'to', 'cancel', 'the', 'sale', 'of', 'CIC,', 'which', 'had', '1996', 'profits', 'of', '847', 'million', 'francs,', 'because', 'of', 'a', 'shortage', 'of', 'bids', 'considered', 'suitable.', 'Eureko', 'has', 'named', 'merchant', 'bank', 'Merrill', 'Lynch', 'as', 'its', 'adviser.'], 'h': ['Eureko', 'is', 'latest', 'suitor', 'for', 'French', 'insurer', 'GAN.'], 'l': [25, 26, 44]}\n"
     ]
    }
   ],
   "source": [
    "# test\n",
    "print(vars(train_data[0]))"
   ]
  },
  {
   "cell_type": "code",
   "execution_count": null,
   "metadata": {},
   "outputs": [],
   "source": []
  },
  {
   "cell_type": "code",
   "execution_count": null,
   "metadata": {},
   "outputs": [],
   "source": []
  }
 ],
 "metadata": {
  "kernelspec": {
   "display_name": "Python 3",
   "language": "python",
   "name": "python3"
  },
  "language_info": {
   "codemirror_mode": {
    "name": "ipython",
    "version": 3
   },
   "file_extension": ".py",
   "mimetype": "text/x-python",
   "name": "python",
   "nbconvert_exporter": "python",
   "pygments_lexer": "ipython3",
   "version": "3.6.4"
  }
 },
 "nbformat": 4,
 "nbformat_minor": 2
}
